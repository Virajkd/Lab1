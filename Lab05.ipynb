{
  "nbformat": 4,
  "nbformat_minor": 0,
  "metadata": {
    "colab": {
      "provenance": [],
      "toc_visible": true,
      "authorship_tag": "ABX9TyMXO9abeky+j3k7MiOLK4aP",
      "include_colab_link": true
    },
    "kernelspec": {
      "name": "python3",
      "display_name": "Python 3"
    },
    "language_info": {
      "name": "python"
    }
  },
  "cells": [
    {
      "cell_type": "markdown",
      "metadata": {
        "id": "view-in-github",
        "colab_type": "text"
      },
      "source": [
        "<a href=\"https://colab.research.google.com/github/Virajkd/Lab1/blob/main/Lab05.ipynb\" target=\"_parent\"><img src=\"https://colab.research.google.com/assets/colab-badge.svg\" alt=\"Open In Colab\"/></a>"
      ]
    },
    {
      "cell_type": "code",
      "execution_count": 8,
      "metadata": {
        "id": "KqmwJrhreEYb"
      },
      "outputs": [],
      "source": [
        "  import pandas as pd\n",
        "  import numpy as np\n",
        "  from sklearn.model_selection import train_test_split\n",
        "  from sklearn.linear_model import LinearRegression\n",
        "  from sklearn.metrics import mean_squared_error, r2_score"
      ]
    },
    {
      "cell_type": "code",
      "source": [
        "datapath='/content/VSP - Java.xlsx'\n",
        "df=pd.read_excel(datapath)\n",
        "Xi=df[['Header_and_Main_declaration']]\n",
        "X=df[['Header_and_Main_declaration','Incomprehensible_Code','Comprehensible_code_with_logical_errors','Comprehensible_code_with_syntax_errors']]\n",
        "y=df[['Final_Marks']]\n",
        "\n",
        "Xi_train, Xi_test, y_train, y_test = train_test_split(Xi,y,test_size=0.2,random_state=42)\n",
        "model=LinearRegression()\n",
        "model.fit(Xi_train,y_train)\n",
        "y_test_pred=model.predict(Xi_test)\n",
        "y_train_pred=model.predict(Xi_train)"
      ],
      "metadata": {
        "id": "9s81z000ezHN"
      },
      "execution_count": 26,
      "outputs": []
    },
    {
      "cell_type": "code",
      "source": [
        "def stats(y_test,y_pred):\n",
        "  mse=mean_squared_error(y_test,y_pred)\n",
        "  rmse=np.sqrt(mse)\n",
        "\n",
        "  y_array_test=np.array(y_test)\n",
        "  y_array_test_pred=np.array(y_test_pred)\n",
        "  y_array_train=np.array(y_train)\n",
        "  y_array_train_pred=np.array(y_test_pred)\n",
        "  mape=np.mean(np.abs((y_test-y_pred)/y_test))*100\n",
        "\n",
        "  r2=r2_score(y_test,y_pred)\n",
        "\n",
        "  print('Mean Squared Error:',mse)\n",
        "  print('R-squared:',r2)\n",
        "  print('MAPE:',mape,'\\n')\n",
        "\n",
        "stats(y_test,y_test_pred)\n",
        "stats(y_train,y_train_pred)"
      ],
      "metadata": {
        "colab": {
          "base_uri": "https://localhost:8080/"
        },
        "id": "3gd1-iZ4rV76",
        "outputId": "f53b32c8-c951-4407-cdc9-d8f2ea90c5d8"
      },
      "execution_count": 27,
      "outputs": [
        {
          "output_type": "stream",
          "name": "stdout",
          "text": [
            "Mean Squared Error: 4.982023339509915\n",
            "R-squared: 0.1692724377800483\n",
            "MAPE: 60.592544421202 \n",
            "\n",
            "Mean Squared Error: 4.833330383491664\n",
            "R-squared: 0.17175661470224413\n",
            "MAPE: inf \n",
            "\n"
          ]
        }
      ]
    },
    {
      "cell_type": "code",
      "source": [
        "X_train, X_test, y_train, y_test = train_test_split(X,y,test_size=0.2,random_state=42)\n",
        "model=LinearRegression()\n",
        "model.fit(X_train,y_train)\n",
        "y_test_pred=model.predict(X_test)\n",
        "y_train_pred=model.predict(X_train)\n",
        "\n",
        "stats(y_test,y_test_pred)\n",
        "stats(y_train,y_train_pred)"
      ],
      "metadata": {
        "colab": {
          "base_uri": "https://localhost:8080/"
        },
        "id": "njn-z5uXy1Jl",
        "outputId": "0b2a659a-6ad2-486b-d340-17ccc9d72e12"
      },
      "execution_count": 29,
      "outputs": [
        {
          "output_type": "stream",
          "name": "stdout",
          "text": [
            "Mean Squared Error: 0.2811857307150743\n",
            "R-squared: 0.9531136807899925\n",
            "MAPE: 8.394026508489514 \n",
            "\n",
            "Mean Squared Error: 0.36129070786407336\n",
            "R-squared: 0.9380889334650055\n",
            "MAPE: inf \n",
            "\n"
          ]
        }
      ]
    }
  ]
}