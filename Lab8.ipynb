{
  "nbformat": 4,
  "nbformat_minor": 0,
  "metadata": {
    "colab": {
      "provenance": [],
      "authorship_tag": "ABX9TyOgZA6X2HIDNJ8r2FU5RGv4",
      "include_colab_link": true
    },
    "kernelspec": {
      "name": "python3",
      "display_name": "Python 3"
    },
    "language_info": {
      "name": "python"
    }
  },
  "cells": [
    {
      "cell_type": "markdown",
      "metadata": {
        "id": "view-in-github",
        "colab_type": "text"
      },
      "source": [
        "<a href=\"https://colab.research.google.com/github/Virajkd/Lab1/blob/main/Lab8.ipynb\" target=\"_parent\"><img src=\"https://colab.research.google.com/assets/colab-badge.svg\" alt=\"Open In Colab\"/></a>"
      ]
    },
    {
      "cell_type": "code",
      "execution_count": null,
      "metadata": {
        "id": "-elvQEP-1JMV"
      },
      "outputs": [],
      "source": [
        "from sklearn.model_selection import train_test_split, RandomizedSearchCV\n",
        "from sklearn.linear_model import Perceptron\n",
        "from sklearn.neural_network import MLPClassifier\n",
        "from sklearn.svm import SVC\n",
        "from sklearn.tree import DecisionTreeClassifier\n",
        "from sklearn.ensemble import RandomForestClassifier, AdaBoostClassifier\n",
        "from sklearn.naive_bayes import GaussianNB\n",
        "from sklearn.metrics import accuracy_score, precision_score, recall_score, f1_score\n",
        "from sklearn.datasets import load_iris\n",
        "import pandas as pd\n",
        "\n",
        "# Load sample dataset (replace with your project data)\n",
        "data = load_iris()\n",
        "X, y = data.data, data.target\n",
        "\n",
        "# Split the dataset\n",
        "X_train, X_test, y_train, y_test = train_test_split(X, y, test_size=0.2, random_state=42)\n",
        "\n",
        "# Hyperparameter tuning for Perceptron using RandomizedSearchCV\n",
        "perceptron = Perceptron()\n",
        "param_grid = {\n",
        "    'penalty': ['l2', 'elasticnet'],\n",
        "    'alpha': [0.0001, 0.001, 0.01, 0.1, 1],\n",
        "    'max_iter': [1000, 2000, 5000]\n",
        "}\n",
        "random_search_perceptron = RandomizedSearchCV(perceptron, param_distributions=param_grid, n_iter=10, cv=5)\n",
        "random_search_perceptron.fit(X_train, y_train)\n",
        "\n",
        "# Evaluate Perceptron model\n",
        "y_pred_perceptron = random_search_perceptron.best_estimator_.predict(X_test)\n",
        "\n",
        "# Define other classifiers\n",
        "classifiers = {\n",
        "    'MLP': MLPClassifier(),\n",
        "    'SVM': SVC(),\n",
        "    'Decision Tree': DecisionTreeClassifier(),\n",
        "    'Random Forest': RandomForestClassifier(),\n",
        "    'AdaBoost': AdaBoostClassifier(),\n",
        "    'Naive Bayes': GaussianNB()\n",
        "}\n",
        "\n",
        "# Store results\n",
        "results = []\n",
        "\n",
        "# Function to evaluate models\n",
        "def evaluate_model(name, model):\n",
        "    model.fit(X_train, y_train)\n",
        "    y_pred = model.predict(X_test)\n",
        "    results.append({\n",
        "        'Model': name,\n",
        "        'Accuracy': accuracy_score(y_test, y_pred),\n",
        "        'Precision': precision_score(y_test, y_pred, average='weighted'),\n",
        "        'Recall': recall_score(y_test, y_pred, average='weighted'),\n",
        "        'F1-Score': f1_score(y_test, y_pred, average='weighted')\n",
        "    })\n",
        "\n",
        "# Evaluate Perceptron model\n",
        "evaluate_model('Perceptron', random_search_perceptron.best_estimator_)\n",
        "\n",
        "# Evaluate other classifiers\n",
        "for name, clf in classifiers.items():\n",
        "    evaluate_model(name, clf)\n",
        "\n",
        "# Tabulate results\n",
        "results_df = pd.DataFrame(results)\n",
        "print(results_df)"
      ]
    }
  ]
}