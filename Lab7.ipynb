{
  "nbformat": 4,
  "nbformat_minor": 0,
  "metadata": {
    "colab": {
      "provenance": [],
      "authorship_tag": "ABX9TyPdR+PHy30t8TX2sSsCLoSR",
      "include_colab_link": true
    },
    "kernelspec": {
      "name": "python3",
      "display_name": "Python 3"
    },
    "language_info": {
      "name": "python"
    }
  },
  "cells": [
    {
      "cell_type": "markdown",
      "metadata": {
        "id": "view-in-github",
        "colab_type": "text"
      },
      "source": [
        "<a href=\"https://colab.research.google.com/github/Virajkd/Lab1/blob/main/Lab7.ipynb\" target=\"_parent\"><img src=\"https://colab.research.google.com/assets/colab-badge.svg\" alt=\"Open In Colab\"/></a>"
      ]
    },
    {
      "cell_type": "code",
      "execution_count": null,
      "metadata": {
        "id": "C8p4dZWU4l8K"
      },
      "outputs": [],
      "source": [
        "from sklearn.neural_network import MLPClassifier\n",
        "from sklearn.linear_model import Perceptron\n",
        "from sklearn.model_selection import RandomizedSearchCV\n",
        "\n",
        "# Define hyperparameter grids\n",
        "param_dist_perceptron = {\n",
        "    'penalty': ['none', 'l2', 'l1'],\n",
        "    'alpha': [0.0001, 0.001, 0.01, 0.1, 1.0],\n",
        "    'max_iter': [1000, 2000, 3000],\n",
        "    'eta0': [0.001, 0.01, 0.1, 1.0]\n",
        "}\n",
        "\n",
        "param_dist_mlp = {\n",
        "    'hidden_layer_sizes': [(50,), (100,), (50, 50), (100, 100)],\n",
        "    'activation': ['tanh', 'relu'],\n",
        "    'solver': ['sgd', 'adam'],\n",
        "    'alpha': [0.0001, 0.001, 0.01, 0.1],\n",
        "    'learning_rate': ['constant', 'adaptive']\n",
        "}\n",
        "\n",
        "from sklearn.metrics import accuracy_score\n",
        "\n",
        "# Perceptron model\n",
        "perceptron = Perceptron()\n",
        "random_search_perceptron = RandomizedSearchCV(\n",
        "    perceptron,\n",
        "    param_distributions=param_dist_perceptron,\n",
        "    n_iter=10,\n",
        "    cv=5,\n",
        "    scoring='accuracy',\n",
        "    random_state=42\n",
        ")\n",
        "random_search_perceptron.fit(X_train, y_train)\n",
        "best_perceptron = random_search_perceptron.best_estimator_\n",
        "print(\"Best Perceptron parameters:\", random_search_perceptron.best_params_)\n",
        "print(\"Best Perceptron score:\", random_search_perceptron.best_score_)\n",
        "print(\"Test accuracy of best Perceptron:\", accuracy_score(y_test, best_perceptron.predict(X_test)))\n",
        "\n",
        "# MLPClassifier model\n",
        "mlp = MLPClassifier(max_iter=1000)\n",
        "random_search_mlp = RandomizedSearchCV(\n",
        "    mlp,\n",
        "    param_distributions=param_dist_mlp,\n",
        "    n_iter=10,\n",
        "    cv=5,\n",
        "    scoring='accuracy',\n",
        "    random_state=42\n",
        ")\n",
        "random_search_mlp.fit(X_train, y_train)\n",
        "best_mlp = random_search_mlp.best_estimator_\n",
        "print(\"Best MLP parameters:\", random_search_mlp.best_params_)\n",
        "print(\"Best MLP score:\", random_search_mlp.best_score_)\n",
        "print(\"Test accuracy of best MLP:\", accuracy_score(y_test, best_mlp.predict(X_test)))\n"
      ]
    }
  ]
}